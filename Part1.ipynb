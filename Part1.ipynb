{
  "nbformat": 4,
  "nbformat_minor": 0,
  "metadata": {
    "colab": {
      "provenance": [],
      "authorship_tag": "ABX9TyNUC04TNcAtgroE0Pzf+Cy5",
      "include_colab_link": true
    },
    "kernelspec": {
      "name": "python3",
      "display_name": "Python 3"
    },
    "language_info": {
      "name": "python"
    }
  },
  "cells": [
    {
      "cell_type": "markdown",
      "metadata": {
        "id": "view-in-github",
        "colab_type": "text"
      },
      "source": [
        "<a href=\"https://colab.research.google.com/github/TejaswiniKashireddy/1234/blob/main/Part1.ipynb\" target=\"_parent\"><img src=\"https://colab.research.google.com/assets/colab-badge.svg\" alt=\"Open In Colab\"/></a>"
      ]
    },
    {
      "cell_type": "markdown",
      "source": [
        "#write list and array"
      ],
      "metadata": {
        "id": "nonUt4oG5t7C"
      }
    },
    {
      "cell_type": "code",
      "execution_count": 9,
      "metadata": {
        "colab": {
          "base_uri": "https://localhost:8080/"
        },
        "id": "jxSYBWBXuO5N",
        "outputId": "8b784690-4f7c-4c7c-89f7-8fc6506730d1"
      },
      "outputs": [
        {
          "output_type": "execute_result",
          "data": {
            "text/plain": [
              "array([1, 2, 3])"
            ]
          },
          "metadata": {},
          "execution_count": 9
        }
      ],
      "source": [
        "\n",
        "import numpy as np\n",
        "a=[1,2,3]\n",
        "b=[4,5,6]\n",
        "c=np.array(a)\n",
        "c\n"
      ]
    },
    {
      "cell_type": "markdown",
      "source": [],
      "metadata": {
        "id": "1l8KZ_yj5qwn"
      }
    },
    {
      "cell_type": "code",
      "source": [
        "d=np.array(b)\n",
        "d"
      ],
      "metadata": {
        "colab": {
          "base_uri": "https://localhost:8080/"
        },
        "id": "841Jt-2_ytje",
        "outputId": "223e7425-a4da-4ea4-b5d2-a189dd6de6bb"
      },
      "execution_count": 8,
      "outputs": [
        {
          "output_type": "execute_result",
          "data": {
            "text/plain": [
              "array([4, 5, 6])"
            ]
          },
          "metadata": {},
          "execution_count": 8
        }
      ]
    },
    {
      "cell_type": "markdown",
      "source": [
        "#Identify their type using type()"
      ],
      "metadata": {
        "id": "LsrwYDU00NoZ"
      }
    },
    {
      "cell_type": "code",
      "source": [
        "type(a)"
      ],
      "metadata": {
        "colab": {
          "base_uri": "https://localhost:8080/"
        },
        "id": "vSRT1tOpzixx",
        "outputId": "c930139b-ca69-43a6-f06b-8689c44a4925"
      },
      "execution_count": 10,
      "outputs": [
        {
          "output_type": "execute_result",
          "data": {
            "text/plain": [
              "list"
            ]
          },
          "metadata": {},
          "execution_count": 10
        }
      ]
    },
    {
      "cell_type": "code",
      "source": [
        "type(b)"
      ],
      "metadata": {
        "colab": {
          "base_uri": "https://localhost:8080/"
        },
        "id": "mPuqEiE6zm5W",
        "outputId": "5bcd47e0-ef74-4e1b-f732-5a6c88f8173a"
      },
      "execution_count": 11,
      "outputs": [
        {
          "output_type": "execute_result",
          "data": {
            "text/plain": [
              "list"
            ]
          },
          "metadata": {},
          "execution_count": 11
        }
      ]
    },
    {
      "cell_type": "code",
      "source": [
        "type(c)"
      ],
      "metadata": {
        "colab": {
          "base_uri": "https://localhost:8080/"
        },
        "id": "PWcx3GnRzzLG",
        "outputId": "f18197d3-1f8a-419d-bbc0-cc3d4437e6fa"
      },
      "execution_count": 12,
      "outputs": [
        {
          "output_type": "execute_result",
          "data": {
            "text/plain": [
              "numpy.ndarray"
            ]
          },
          "metadata": {},
          "execution_count": 12
        }
      ]
    },
    {
      "cell_type": "code",
      "source": [
        "type(d)"
      ],
      "metadata": {
        "colab": {
          "base_uri": "https://localhost:8080/"
        },
        "id": "0fZ8YEeJz3PB",
        "outputId": "95005017-19e2-444e-d658-0bc28c3e1b0d"
      },
      "execution_count": 13,
      "outputs": [
        {
          "output_type": "execute_result",
          "data": {
            "text/plain": [
              "numpy.ndarray"
            ]
          },
          "metadata": {},
          "execution_count": 13
        }
      ]
    },
    {
      "cell_type": "code",
      "source": [],
      "metadata": {
        "id": "G0-AGSQj1BCR"
      },
      "execution_count": null,
      "outputs": []
    },
    {
      "cell_type": "markdown",
      "source": [],
      "metadata": {
        "id": "mmkGGT7I1Dwn"
      }
    },
    {
      "cell_type": "code",
      "source": [],
      "metadata": {
        "id": "XiGZ5Sd71HDc"
      },
      "execution_count": null,
      "outputs": []
    },
    {
      "cell_type": "markdown",
      "source": [
        "#perform mathematical operations on these datasets created-multiplilcation,division,poweroff\n"
      ],
      "metadata": {
        "id": "c0AEPLap0lAi"
      }
    },
    {
      "cell_type": "markdown",
      "source": [],
      "metadata": {
        "id": "ELJUFRic0B0m"
      }
    },
    {
      "cell_type": "code",
      "source": [
        "print(f'multiplication of {c} and {d}',c*d)\n",
        "print(f'division of {c} and {d}',c/d)\n",
        "print(f'poweroff of {c} and {d}',c**d)"
      ],
      "metadata": {
        "colab": {
          "base_uri": "https://localhost:8080/"
        },
        "id": "RLvxVazm1J0D",
        "outputId": "869dbc99-e66f-41fe-8db0-afef4a212f70"
      },
      "execution_count": 18,
      "outputs": [
        {
          "output_type": "stream",
          "name": "stdout",
          "text": [
            "multiplication of [1 2 3] and [4 5 6] [ 4 10 18]\n",
            "division of [1 2 3] and [4 5 6] [0.25 0.4  0.5 ]\n",
            "poweroff of [1 2 3] and [4 5 6] [  1  32 729]\n"
          ]
        }
      ]
    },
    {
      "cell_type": "markdown",
      "source": [
        "#combine  text with Numpy function to genertae a textual output.Addition of Two:array1+array 2"
      ],
      "metadata": {
        "id": "ZD7WS6Fz2oEs"
      }
    },
    {
      "cell_type": "code",
      "source": [
        "print(f'Addition of Two:{c} +{d}-',c+d)"
      ],
      "metadata": {
        "colab": {
          "base_uri": "https://localhost:8080/"
        },
        "id": "qy1Y-Obh3T5K",
        "outputId": "21af4a71-79ef-4266-e65a-8c624a780eb1"
      },
      "execution_count": 19,
      "outputs": [
        {
          "output_type": "stream",
          "name": "stdout",
          "text": [
            "Addition of Two:[1 2 3] +[4 5 6]- [5 7 9]\n"
          ]
        }
      ]
    },
    {
      "cell_type": "markdown",
      "source": [
        "#implement npsin().log().log2()np,exp()"
      ],
      "metadata": {
        "id": "BcQXLP1f3tzc"
      }
    },
    {
      "cell_type": "code",
      "source": [
        "s=print(f'sin value of a:',np.sin(a))\n",
        "l1=print(f'logarithm value of a:',np.log(a))\n",
        "l2=print(f'logarithm value of b:',np.log2(a))\n",
        "e=print(f'logarithm value of b:',np.exp(b))"
      ],
      "metadata": {
        "colab": {
          "base_uri": "https://localhost:8080/"
        },
        "id": "L5ucOm6r39BY",
        "outputId": "bcf04a61-33b0-45d7-f488-d34141d41023"
      },
      "execution_count": 22,
      "outputs": [
        {
          "output_type": "stream",
          "name": "stdout",
          "text": [
            "sin value of a: [0.84147098 0.90929743 0.14112001]\n",
            "logarithm value of a: [0.         0.69314718 1.09861229]\n",
            "logarithm value of b: [0.        1.        1.5849625]\n",
            "logarithm value of b: [ 54.59815003 148.4131591  403.42879349]\n"
          ]
        }
      ]
    },
    {
      "cell_type": "code",
      "source": [],
      "metadata": {
        "id": "UToU_t7a4jFN"
      },
      "execution_count": null,
      "outputs": []
    }
  ]
}